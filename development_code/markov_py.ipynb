{
 "cells": [
  {
   "cell_type": "code",
   "execution_count": 1,
   "metadata": {},
   "outputs": [],
   "source": [
    "import quantecon as qe"
   ]
  },
  {
   "cell_type": "code",
   "execution_count": 13,
   "metadata": {},
   "outputs": [
    {
     "data": {
      "text/plain": [
       "Markov chain with transition matrix \n",
       "P = \n",
       "[[6.76822402e-01 3.20224902e-01 2.95247154e-03 2.24229050e-07\n",
       "  1.05804254e-13 0.00000000e+00 0.00000000e+00]\n",
       " [5.41468279e-02 7.00204610e-01 2.44218593e-01 1.42990329e-03\n",
       "  6.58150209e-08 1.85407245e-14 0.00000000e+00]\n",
       " [1.20966395e-04 8.42133430e-02 7.36268012e-01 1.78738195e-01\n",
       "  6.59465950e-04 1.83562562e-08 3.10862447e-15]\n",
       " [4.86431481e-09 2.89526744e-04 1.25385023e-01 7.48650891e-01\n",
       "  1.25385023e-01 2.89526744e-04 4.86431484e-09]\n",
       " [3.09205035e-15 1.83562562e-08 6.59465950e-04 1.78738195e-01\n",
       "  7.36268012e-01 8.42133430e-02 1.20966395e-04]\n",
       " [2.95535541e-23 1.85581757e-14 6.58150209e-08 1.42990329e-03\n",
       "  2.44218593e-01 7.00204610e-01 5.41468279e-02]\n",
       " [4.14765577e-33 2.83186494e-22 1.05761781e-13 2.24229050e-07\n",
       "  2.95247154e-03 3.20224902e-01 6.76822402e-01]]"
      ]
     },
     "execution_count": 13,
     "metadata": {},
     "output_type": "execute_result"
    }
   ],
   "source": [
    "ρ = 0.9;\n",
    "σ = 0.02;\n",
    "nz = 7;\n",
    "qe.markov.tauchen(ρ, σ, 0, 3, nz)"
   ]
  }
 ],
 "metadata": {
  "kernelspec": {
   "display_name": "Python 3",
   "language": "python",
   "name": "python3"
  },
  "language_info": {
   "codemirror_mode": {
    "name": "ipython",
    "version": 3
   },
   "file_extension": ".py",
   "mimetype": "text/x-python",
   "name": "python",
   "nbconvert_exporter": "python",
   "pygments_lexer": "ipython3",
   "version": "3.7.4"
  }
 },
 "nbformat": 4,
 "nbformat_minor": 2
}
